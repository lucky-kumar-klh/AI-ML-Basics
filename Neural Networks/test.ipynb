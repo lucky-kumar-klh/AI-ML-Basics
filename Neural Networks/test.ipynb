{
 "cells": [
  {
   "cell_type": "code",
   "execution_count": 3,
   "metadata": {},
   "outputs": [],
   "source": [
    "import tensorflow as tf\n",
    "import tensorflow.keras as k"
   ]
  },
  {
   "cell_type": "code",
   "execution_count": 2,
   "metadata": {},
   "outputs": [],
   "source": [
    "import numpy as np"
   ]
  },
  {
   "cell_type": "code",
   "execution_count": 12,
   "metadata": {},
   "outputs": [
    {
     "data": {
      "text/plain": [
       "<tf.Tensor: shape=(1, 3), dtype=float32, numpy=array([[2.8779168 , 1.3504953 , 0.61485624]], dtype=float32)>"
      ]
     },
     "execution_count": 12,
     "metadata": {},
     "output_type": "execute_result"
    }
   ],
   "source": [
    "# Create dense layer with 3 units\n",
    "\n",
    "layer = k.layers.Dense(units = 3, activation = 'relu')\n",
    "y = layer(tf.constant([[2.0, 2.0, 2.0]]))\n",
    "y"
   ]
  },
  {
   "cell_type": "markdown",
   "metadata": {},
   "source": [
    "# Forward Propagation from Scratch"
   ]
  },
  {
   "cell_type": "code",
   "execution_count": null,
   "metadata": {},
   "outputs": [],
   "source": [
    "def sigmoid(x):\n",
    "    e = 2.7\n",
    "    return 1/(1 + e**(-x))\n",
    "\n",
    "def dense(a_in, W, b):\n",
    "    units = W.shape[1]  # returns the no of columns of a matrix\n",
    "    a_out = np.zeros(units)  # Output column zero matrix\n",
    "    for j in range(units):\n",
    "        w = W[:,j]  # j th column  --> W[0:0], W[0:1], W[0:2], .....\n",
    "        z = np.dot(w, a_in) + b[j]\n",
    "        a_out[j] = sigmoid(z)\n",
    "    return a_out\n",
    "\n",
    "def sequential(x):\n",
    "    a1 = dense(x, W1, b1)\n",
    "    a2 = dense(a1, W2, b2)\n",
    "    a3 = dense(a2, W3, b3)\n",
    "    return a3\n",
    "\n"
   ]
  }
 ],
 "metadata": {
  "kernelspec": {
   "display_name": ".venv",
   "language": "python",
   "name": "python3"
  },
  "language_info": {
   "codemirror_mode": {
    "name": "ipython",
    "version": 3
   },
   "file_extension": ".py",
   "mimetype": "text/x-python",
   "name": "python",
   "nbconvert_exporter": "python",
   "pygments_lexer": "ipython3",
   "version": "3.12.2"
  }
 },
 "nbformat": 4,
 "nbformat_minor": 2
}
