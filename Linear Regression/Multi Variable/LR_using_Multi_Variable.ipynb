{
 "cells": [
  {
   "cell_type": "code",
   "execution_count": 1,
   "metadata": {},
   "outputs": [],
   "source": [
    "import pandas as pd\n",
    "from sklearn import linear_model"
   ]
  },
  {
   "cell_type": "code",
   "execution_count": 2,
   "metadata": {},
   "outputs": [],
   "source": [
    "df = pd.read_csv(\"homeprices.csv\")\n",
    "\n",
    "# Pre-Process / Clean Data by filling the missing Values\n",
    "NaN_value = df.bedrooms.median()\n",
    "df['bedrooms'] = df['bedrooms'].fillna(NaN_value)\n",
    "df.to_csv(\"homeprices.csv\", index = False)"
   ]
  },
  {
   "cell_type": "code",
   "execution_count": 3,
   "metadata": {},
   "outputs": [
    {
     "name": "stdout",
     "output_type": "stream",
     "text": [
      "m = [112.06244194213473, 23388.88007793914, -3231.7179086329706]\n",
      "b = 221323.00186540396\n"
     ]
    }
   ],
   "source": [
    "reg = linear_model.LinearRegression()\n",
    "reg.fit(df[['area', 'bedrooms', 'age']], df.price)\n",
    "print(\"m =\", list(reg.coef_))\n",
    "print(\"b =\", reg.intercept_)"
   ]
  },
  {
   "cell_type": "code",
   "execution_count": 4,
   "metadata": {},
   "outputs": [
    {
     "name": "stderr",
     "output_type": "stream",
     "text": [
      "/Library/Frameworks/Python.framework/Versions/3.12/lib/python3.12/site-packages/sklearn/base.py:493: UserWarning: X does not have valid feature names, but LinearRegression was fitted with feature names\n",
      "  warnings.warn(\n"
     ]
    },
    {
     "data": {
      "text/plain": [
       "579201.1992961309"
      ]
     },
     "execution_count": 4,
     "metadata": {},
     "output_type": "execute_result"
    }
   ],
   "source": [
    "reg.predict([[3000, 3, 15]])[0]"
   ]
  },
  {
   "cell_type": "markdown",
   "metadata": {},
   "source": [
    "# Exercise"
   ]
  },
  {
   "cell_type": "code",
   "execution_count": 5,
   "metadata": {},
   "outputs": [
    {
     "name": "stdout",
     "output_type": "stream",
     "text": [
      "m = [2812.9548762736536, 1845.7059679767099, 2205.2401746724895] \n",
      "b = 17737.263464337695\n"
     ]
    }
   ],
   "source": [
    "data = pd.read_csv(\"hiring.csv\")\n",
    "\n",
    "# Pre-Processing the data\n",
    "data['experience'] = data['experience'].fillna(\"zero\")\n",
    "median_test_score = data['test_score_out_of_10'].median()\n",
    "data['test_score_out_of_10'] = data['test_score_out_of_10'].fillna(median_test_score)\n",
    "\n",
    "words2num = {'zero': 0, 'one': 1, 'two': 2, 'three': 3, 'four': 4, 'five': 5, 'six': 6, \n",
    "             'seven': 7, 'eight': 8, 'nine': 9, 'ten': 10, 'eleven': 11}\n",
    "\n",
    "# data['experience'] = data['experience'].replace(words2num)\n",
    "data['experience'] = data['experience'].apply(lambda x: words2num[x])\n",
    "data.to_csv(\"Predicted_hiring_Sheet.csv\", index = False)\n",
    "\n",
    "# Training a model\n",
    "hiring_model = linear_model.LinearRegression()\n",
    "hiring_model.fit(data[['experience', 'test_score_out_of_10', 'interview_score_out_of_10']], data.salary)\n",
    "\n",
    "print(\"m =\", list(hiring_model.coef_), \"\\nb =\", hiring_model.intercept_)"
   ]
  },
  {
   "cell_type": "code",
   "execution_count": 6,
   "metadata": {},
   "outputs": [
    {
     "name": "stdout",
     "output_type": "stream",
     "text": [
      "2 Yr, 9/10 in Test, 6/10 in Interview 53205.96797671033\n",
      "12 Yr, 10/10 in Test, 10/10 in Interview 92002.18340611353\n"
     ]
    },
    {
     "name": "stderr",
     "output_type": "stream",
     "text": [
      "/Library/Frameworks/Python.framework/Versions/3.12/lib/python3.12/site-packages/sklearn/base.py:493: UserWarning: X does not have valid feature names, but LinearRegression was fitted with feature names\n",
      "  warnings.warn(\n",
      "/Library/Frameworks/Python.framework/Versions/3.12/lib/python3.12/site-packages/sklearn/base.py:493: UserWarning: X does not have valid feature names, but LinearRegression was fitted with feature names\n",
      "  warnings.warn(\n"
     ]
    }
   ],
   "source": [
    "print(\"2 Yr, 9/10 in Test, 6/10 in Interview\", hiring_model.predict([[2, 9, 6]])[0])\n",
    "print(\"12 Yr, 10/10 in Test, 10/10 in Interview\", hiring_model.predict([[12, 10, 10]])[0])\n",
    "\n",
    "# Updating sheet with all predicted salaries\n",
    "pred_values = hiring_model.predict(data[['experience', 'test_score_out_of_10', 'interview_score_out_of_10']])\n",
    "data['Predicted_Values'] = pred_values\n",
    "data.to_csv(\"Predicted_hiring_Sheet.csv\", index = False)"
   ]
  }
 ],
 "metadata": {
  "kernelspec": {
   "display_name": "Python 3",
   "language": "python",
   "name": "python3"
  },
  "language_info": {
   "codemirror_mode": {
    "name": "ipython",
    "version": 3
   },
   "file_extension": ".py",
   "mimetype": "text/x-python",
   "name": "python",
   "nbconvert_exporter": "python",
   "pygments_lexer": "ipython3",
   "version": "3.12.2"
  }
 },
 "nbformat": 4,
 "nbformat_minor": 2
}
